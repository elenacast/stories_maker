{
 "cells": [
  {
   "cell_type": "markdown",
   "metadata": {},
   "source": [
    "### Import libraries"
   ]
  },
  {
   "cell_type": "code",
   "execution_count": null,
   "metadata": {},
   "outputs": [],
   "source": [
    "import pandas as pd\n",
    "import numpy as np\n",
    "from transformers import pipeline, AutoProcessor, AutoModelForImageTextToText\n",
    "import os\n",
    "os.environ[\"KERAS_BACKEND\"] = \"tensorflow\"\n",
    "from transformers import AutoProcessor, AutoModelForVision2Seq, pipeline\n",
    "from PIL import Image\n",
    "import torch\n",
    "import pyttsx3\n",
    "import re"
   ]
  },
  {
   "cell_type": "markdown",
   "metadata": {},
   "source": [
    "### Image to text model"
   ]
  },
  {
   "cell_type": "code",
   "execution_count": 3,
   "metadata": {},
   "outputs": [
    {
     "name": "stderr",
     "output_type": "stream",
     "text": [
      "c:\\Users\\elena\\OneDrive\\Documents\\portafolio\\genai_project\\genai_app\\lib\\site-packages\\transformers\\generation\\configuration_utils.py:634: UserWarning: `do_sample` is set to `False`. However, `top_p` is set to `0.5` -- this flag is only used in sample-based generation modes. You should set `do_sample=True` or unset `top_p`.\n",
      "  warnings.warn(\n"
     ]
    },
    {
     "name": "stdout",
     "output_type": "stream",
     "text": [
      "a small brown and white dog laying on a tiled floor\n"
     ]
    }
   ],
   "source": [
    "processor = AutoProcessor.from_pretrained(\"Salesforce/blip-image-captioning-base\")\n",
    "model = AutoModelForVision2Seq.from_pretrained(\"Salesforce/blip-image-captioning-base\")\n",
    "\n",
    "image = Image.open(\"perrin.jpeg\").convert(\"RGB\")\n",
    "inputs = processor(images=image, return_tensors=\"pt\")\n",
    "\n",
    "generated_ids = model.generate(\n",
    "    **inputs,\n",
    "    max_length=100,\n",
    "    num_beams=5,        \n",
    "    repetition_penalty=2.0,  \n",
    "    length_penalty=1.5, \n",
    "    temperature=1,     \n",
    "    top_p=0.5           \n",
    ")\n",
    "caption = processor.batch_decode(generated_ids, skip_special_tokens=True)[0]\n",
    "print(caption)\n"
   ]
  },
  {
   "cell_type": "markdown",
   "metadata": {},
   "source": [
    "### Story Maker model"
   ]
  },
  {
   "cell_type": "code",
   "execution_count": null,
   "metadata": {},
   "outputs": [],
   "source": [
    "generator = pipeline(\"text-generation\", model=\"gpt2\")\n"
   ]
  },
  {
   "cell_type": "code",
   "execution_count": null,
   "metadata": {},
   "outputs": [
    {
     "name": "stderr",
     "output_type": "stream",
     "text": [
      "Device set to use cpu\n",
      "Truncation was not explicitly activated but `max_length` is provided a specific value, please use `truncation=True` to explicitly truncate examples to max length. Defaulting to 'longest_first' truncation strategy. If you encode pairs of sequences (GLUE-style) with the tokenizer you can select this strategy more precisely by providing a specific strategy to `truncation`.\n",
      "Setting `pad_token_id` to `eos_token_id`:50256 for open-end generation.\n"
     ]
    },
    {
     "name": "stdout",
     "output_type": "stream",
     "text": [
      "Complete the following idea with a creative and happy very short story based on this description: a small brown and white dog laying on a tiled floor. Once upon a time... A cute and loving and thoughtful little pup is not far from your ears. He sits in front of you, and the only thing more beautiful than his soft, fluffy little eyes, is his petting her handbag. He was just a little puppy, and he is a special bond between you and your little blue dog and its adorable little toy. Now he loves you more and more, and you are his puppy. So why aren't you going to call him adorable? Why would you be? What is this puppy doing? Did he get a good look, I mean he looks nice just like him, he just comes with a big grin on his face, which is a bonus because he's not just a dog! It's pretty obvious why this puppies little one is adorable so he can do his part for you in\n"
     ]
    }
   ],
   "source": [
    "prompt = f\"Complete the following idea with a creative and happy very short story based on this description: {caption}. Once upon a time...\"\"\"\n",
    "\n",
    "story = generator(prompt, max_length=200, num_return_sequences=1)\n",
    "modified_story = re.sub(f\"Complete the following idea with a creative and happy very short story based on this description: {caption}. Once upon a time...\",'',story[0][\"generated_text\"])"
   ]
  },
  {
   "cell_type": "code",
   "execution_count": 9,
   "metadata": {},
   "outputs": [
    {
     "data": {
      "text/plain": [
       "\" A cute and loving and thoughtful little pup is not far from your ears. He sits in front of you, and the only thing more beautiful than his soft, fluffy little eyes, is his petting her handbag. He was just a little puppy, and he is a special bond between you and your little blue dog and its adorable little toy. Now he loves you more and more, and you are his puppy. So why aren't you going to call him adorable? Why would you be? What is this puppy doing? Did he get a good look, I mean he looks nice just like him, he just comes with a big grin on his face, which is a bonus because he's not just a dog! It's pretty obvious why this puppies little one is adorable so he can do his part for you in\""
      ]
     },
     "execution_count": 9,
     "metadata": {},
     "output_type": "execute_result"
    }
   ],
   "source": [
    "modified_story"
   ]
  },
  {
   "cell_type": "markdown",
   "metadata": {},
   "source": [
    "### Text-to-speech section"
   ]
  },
  {
   "cell_type": "markdown",
   "metadata": {},
   "source": [
    "library  https://pypi.org/project/pyttsx3/"
   ]
  },
  {
   "cell_type": "code",
   "execution_count": 5,
   "metadata": {},
   "outputs": [],
   "source": [
    "import pyttsx3\n",
    "engine = pyttsx3.init()"
   ]
  },
  {
   "cell_type": "code",
   "execution_count": 6,
   "metadata": {},
   "outputs": [],
   "source": [
    "voices = engine.getProperty('voices')       \n",
    "engine.setProperty('voice', voices[1].id)    "
   ]
  },
  {
   "cell_type": "code",
   "execution_count": null,
   "metadata": {},
   "outputs": [],
   "source": [
    "engine.say(modified_story)\n",
    "engine.runAndWait()"
   ]
  }
 ],
 "metadata": {
  "kernelspec": {
   "display_name": "Python 3",
   "language": "python",
   "name": "python3"
  },
  "language_info": {
   "codemirror_mode": {
    "name": "ipython",
    "version": 3
   },
   "file_extension": ".py",
   "mimetype": "text/x-python",
   "name": "python",
   "nbconvert_exporter": "python",
   "pygments_lexer": "ipython3",
   "version": "3.10.16"
  }
 },
 "nbformat": 4,
 "nbformat_minor": 2
}
